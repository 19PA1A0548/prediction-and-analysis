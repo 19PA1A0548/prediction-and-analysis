{
 "cells": [
  {
   "cell_type": "markdown",
   "id": "precise-capture",
   "metadata": {
    "papermill": {
     "duration": 0.036821,
     "end_time": "2021-04-29T08:09:48.088162",
     "exception": false,
     "start_time": "2021-04-29T08:09:48.051341",
     "status": "completed"
    },
    "tags": []
   },
   "source": [
    "# Welcome"
   ]
  },
  {
   "cell_type": "markdown",
   "id": "industrial-hospital",
   "metadata": {
    "papermill": {
     "duration": 0.034796,
     "end_time": "2021-04-29T08:09:48.158438",
     "exception": false,
     "start_time": "2021-04-29T08:09:48.123642",
     "status": "completed"
    },
    "tags": []
   },
   "source": [
    "# Predicting the price of house based on certain features."
   ]
  },
  {
   "cell_type": "markdown",
   "id": "technical-private",
   "metadata": {
    "papermill": {
     "duration": 0.034945,
     "end_time": "2021-04-29T08:09:48.228905",
     "exception": false,
     "start_time": "2021-04-29T08:09:48.193960",
     "status": "completed"
    },
    "tags": []
   },
   "source": [
    "# Data"
   ]
  },
  {
   "cell_type": "markdown",
   "id": "mysterious-doubt",
   "metadata": {
    "papermill": {
     "duration": 0.034853,
     "end_time": "2021-04-29T08:09:48.299267",
     "exception": false,
     "start_time": "2021-04-29T08:09:48.264414",
     "status": "completed"
    },
    "tags": []
   },
   "source": [
    "**Notes on Specific Variables**\n",
    "\n",
    "**Rooms** : Number of rooms\n",
    "\n",
    "**Price** : Price in dollars\n",
    "\n",
    "**Suburb** : The residential area on the outskirts of a city or large town.\n",
    "\n",
    "**Method** : \n",
    "\n",
    "S - property sold;\n",
    "\n",
    " SP - property sold prior; \n",
    "\n",
    " PI - property passed in; \n",
    "\n",
    " PN - sold prior not disclosed;\n",
    "\n",
    " SN - sold not disclosed; \n",
    "\n",
    " NB - no bid;\n",
    "\n",
    " VB - vendor bid;\n",
    "\n",
    " W - withdrawn prior to auction;\n",
    "\n",
    " SA - sold after auction;\n",
    "\n",
    " SS - sold after auction price not disclosed.\n",
    "\n",
    " N/A - price or highest bid not available.\n",
    "\n",
    "**Type** :\n",
    "\n",
    " br - bedroom(s);\n",
    "\n",
    " h - house,cottage,villa, semi,terrace;\n",
    "\n",
    " u - unit, duplex;\n",
    "\n",
    " t - townhouse;\n",
    "\n",
    " dev site - development site; \n",
    "\n",
    " o res - other residential.\n",
    "\n",
    "SellerG: Real Estate Agent\n",
    "\n",
    "Date: Date sold\n",
    "\n",
    "Distance: Distance from CBD\n",
    "\n",
    "Regionname: General Region (West, North West, North, North east …etc)\n",
    "\n",
    "Propertycount: Number of properties that exist in the suburb.\n",
    "\n",
    "Bedroom2 : Scraped # of Bedrooms (from different source)\n",
    "\n",
    "Bathroom: Number of Bathrooms\n",
    "\n",
    "Car: Number of carspots\n",
    "\n",
    "Landsize: Land Size\n",
    "\n",
    "BuildingArea: Building Size\n",
    "\n",
    "CouncilArea: Governing council for the area"
   ]
  },
  {
   "cell_type": "markdown",
   "id": "chinese-uruguay",
   "metadata": {
    "papermill": {
     "duration": 0.037453,
     "end_time": "2021-04-29T08:09:48.372141",
     "exception": false,
     "start_time": "2021-04-29T08:09:48.334688",
     "status": "completed"
    },
    "tags": []
   },
   "source": [
    "**You can find our blog link [here](https://abhishekgera2001.medium.com/predicting-house-price-with-random-forest-regressor-6e9a7c7f75dd)**"
   ]
  },
  {
   "cell_type": "markdown",
   "id": "legal-corner",
   "metadata": {
    "papermill": {
     "duration": 0.035942,
     "end_time": "2021-04-29T08:09:48.444300",
     "exception": false,
     "start_time": "2021-04-29T08:09:48.408358",
     "status": "completed"
    },
    "tags": []
   },
   "source": [
    "**Code**"
   ]
  },
  {
   "cell_type": "markdown",
   "id": "theoretical-bryan",
   "metadata": {
    "papermill": {
     "duration": 0.035148,
     "end_time": "2021-04-29T08:09:48.514645",
     "exception": false,
     "start_time": "2021-04-29T08:09:48.479497",
     "status": "completed"
    },
    "tags": []
   },
   "source": [
    "**Importing Libraries**"
   ]
  },
  {
   "cell_type": "code",
   "execution_count": 1,
   "id": "related-monday",
   "metadata": {
    "execution": {
     "iopub.execute_input": "2021-04-29T08:09:48.591440Z",
     "iopub.status.busy": "2021-04-29T08:09:48.589658Z",
     "iopub.status.idle": "2021-04-29T08:09:49.593355Z",
     "shell.execute_reply": "2021-04-29T08:09:49.593920Z"
    },
    "papermill": {
     "duration": 1.044267,
     "end_time": "2021-04-29T08:09:49.594240",
     "exception": false,
     "start_time": "2021-04-29T08:09:48.549973",
     "status": "completed"
    },
    "tags": []
   },
   "outputs": [],
   "source": [
    "# importing Required packages.\n",
    "import numpy as np\n",
    "import pandas as pd\n",
    "import matplotlib.pyplot as plt\n",
    "import seaborn as sns\n",
    "from scipy.stats import spearmanr"
   ]
  },
  {
   "cell_type": "markdown",
   "id": "blocked-venue",
   "metadata": {
    "papermill": {
     "duration": 0.034899,
     "end_time": "2021-04-29T08:09:49.665175",
     "exception": false,
     "start_time": "2021-04-29T08:09:49.630276",
     "status": "completed"
    },
    "tags": []
   },
   "source": [
    "**Importing Data set**"
   ]
  },
  {
   "cell_type": "markdown",
   "id": "muslim-occurrence",
   "metadata": {
    "papermill": {
     "duration": 0.036349,
     "end_time": "2021-04-29T08:09:49.737317",
     "exception": false,
     "start_time": "2021-04-29T08:09:49.700968",
     "status": "completed"
    },
    "tags": []
   },
   "source": [
    "The following command imports the CSV dataset via pandas:"
   ]
  },
  {
   "cell_type": "code",
   "execution_count": 2,
   "id": "legal-adapter",
   "metadata": {
    "execution": {
     "iopub.execute_input": "2021-04-29T08:09:49.812689Z",
     "iopub.status.busy": "2021-04-29T08:09:49.811703Z",
     "iopub.status.idle": "2021-04-29T08:09:49.910003Z",
     "shell.execute_reply": "2021-04-29T08:09:49.910523Z"
    },
    "papermill": {
     "duration": 0.138207,
     "end_time": "2021-04-29T08:09:49.910759",
     "exception": false,
     "start_time": "2021-04-29T08:09:49.772552",
     "status": "completed"
    },
    "tags": []
   },
   "outputs": [],
   "source": [
    "df = pd.read_csv(\"../input/dataset/melb_data.csv\")"
   ]
  },
  {
   "cell_type": "markdown",
   "id": "streaming-disposition",
   "metadata": {
    "papermill": {
     "duration": 0.034764,
     "end_time": "2021-04-29T08:09:49.981507",
     "exception": false,
     "start_time": "2021-04-29T08:09:49.946743",
     "status": "completed"
    },
    "tags": []
   },
   "source": [
    "**Understand the Data**"
   ]
  },
  {
   "cell_type": "markdown",
   "id": "compressed-tiger",
   "metadata": {
    "papermill": {
     "duration": 0.03666,
     "end_time": "2021-04-29T08:09:50.053751",
     "exception": false,
     "start_time": "2021-04-29T08:09:50.017091",
     "status": "completed"
    },
    "tags": []
   },
   "source": [
    "Now let’s explore the dataset. Execute the following script: df.shape"
   ]
  },
  {
   "cell_type": "code",
   "execution_count": 3,
   "id": "worse-reading",
   "metadata": {
    "execution": {
     "iopub.execute_input": "2021-04-29T08:09:50.130559Z",
     "iopub.status.busy": "2021-04-29T08:09:50.129592Z",
     "iopub.status.idle": "2021-04-29T08:09:50.137398Z",
     "shell.execute_reply": "2021-04-29T08:09:50.137856Z"
    },
    "papermill": {
     "duration": 0.047473,
     "end_time": "2021-04-29T08:09:50.138023",
     "exception": false,
     "start_time": "2021-04-29T08:09:50.090550",
     "status": "completed"
    },
    "tags": []
   },
   "outputs": [
    {
     "data": {
      "text/plain": [
       "(13580, 21)"
      ]
     },
     "execution_count": 3,
     "metadata": {},
     "output_type": "execute_result"
    }
   ],
   "source": [
    "df.shape"
   ]
  },
  {
   "cell_type": "markdown",
   "id": "industrial-premiere",
   "metadata": {
    "papermill": {
     "duration": 0.035712,
     "end_time": "2021-04-29T08:09:50.209883",
     "exception": false,
     "start_time": "2021-04-29T08:09:50.174171",
     "status": "completed"
    },
    "tags": []
   },
   "source": [
    "**The dataset contain 13,580 rows and 21 columns. Let’s take a look at what our dataset actually looks like. enter the df.head() which will retrieves the first 5 records from our dataset.**"
   ]
  },
  {
   "cell_type": "code",
   "execution_count": 4,
   "id": "filled-capture",
   "metadata": {
    "execution": {
     "iopub.execute_input": "2021-04-29T08:09:50.285669Z",
     "iopub.status.busy": "2021-04-29T08:09:50.284736Z",
     "iopub.status.idle": "2021-04-29T08:09:50.339015Z",
     "shell.execute_reply": "2021-04-29T08:09:50.338463Z"
    },
    "papermill": {
     "duration": 0.093222,
     "end_time": "2021-04-29T08:09:50.339160",
     "exception": false,
     "start_time": "2021-04-29T08:09:50.245938",
     "status": "completed"
    },
    "tags": []
   },
   "outputs": [
    {
     "data": {
      "text/html": [
       "<div>\n",
       "<style scoped>\n",
       "    .dataframe tbody tr th:only-of-type {\n",
       "        vertical-align: middle;\n",
       "    }\n",
       "\n",
       "    .dataframe tbody tr th {\n",
       "        vertical-align: top;\n",
       "    }\n",
       "\n",
       "    .dataframe thead th {\n",
       "        text-align: right;\n",
       "    }\n",
       "</style>\n",
       "<table border=\"1\" class=\"dataframe\">\n",
       "  <thead>\n",
       "    <tr style=\"text-align: right;\">\n",
       "      <th></th>\n",
       "      <th>Suburb</th>\n",
       "      <th>Address</th>\n",
       "      <th>Rooms</th>\n",
       "      <th>Type</th>\n",
       "      <th>Price</th>\n",
       "      <th>Method</th>\n",
       "      <th>SellerG</th>\n",
       "      <th>Date</th>\n",
       "      <th>Distance</th>\n",
       "      <th>Postcode</th>\n",
       "      <th>...</th>\n",
       "      <th>Bathroom</th>\n",
       "      <th>Car</th>\n",
       "      <th>Landsize</th>\n",
       "      <th>BuildingArea</th>\n",
       "      <th>YearBuilt</th>\n",
       "      <th>CouncilArea</th>\n",
       "      <th>Lattitude</th>\n",
       "      <th>Longtitude</th>\n",
       "      <th>Regionname</th>\n",
       "      <th>Propertycount</th>\n",
       "    </tr>\n",
       "  </thead>\n",
       "  <tbody>\n",
       "    <tr>\n",
       "      <th>0</th>\n",
       "      <td>Abbotsford</td>\n",
       "      <td>85 Turner St</td>\n",
       "      <td>2</td>\n",
       "      <td>h</td>\n",
       "      <td>1480000.0</td>\n",
       "      <td>S</td>\n",
       "      <td>Biggin</td>\n",
       "      <td>3/12/2016</td>\n",
       "      <td>2.5</td>\n",
       "      <td>3067.0</td>\n",
       "      <td>...</td>\n",
       "      <td>1.0</td>\n",
       "      <td>1.0</td>\n",
       "      <td>202.0</td>\n",
       "      <td>NaN</td>\n",
       "      <td>NaN</td>\n",
       "      <td>Yarra</td>\n",
       "      <td>-37.7996</td>\n",
       "      <td>144.9984</td>\n",
       "      <td>Northern Metropolitan</td>\n",
       "      <td>4019.0</td>\n",
       "    </tr>\n",
       "    <tr>\n",
       "      <th>1</th>\n",
       "      <td>Abbotsford</td>\n",
       "      <td>25 Bloomburg St</td>\n",
       "      <td>2</td>\n",
       "      <td>h</td>\n",
       "      <td>1035000.0</td>\n",
       "      <td>S</td>\n",
       "      <td>Biggin</td>\n",
       "      <td>4/02/2016</td>\n",
       "      <td>2.5</td>\n",
       "      <td>3067.0</td>\n",
       "      <td>...</td>\n",
       "      <td>1.0</td>\n",
       "      <td>0.0</td>\n",
       "      <td>156.0</td>\n",
       "      <td>79.0</td>\n",
       "      <td>1900.0</td>\n",
       "      <td>Yarra</td>\n",
       "      <td>-37.8079</td>\n",
       "      <td>144.9934</td>\n",
       "      <td>Northern Metropolitan</td>\n",
       "      <td>4019.0</td>\n",
       "    </tr>\n",
       "    <tr>\n",
       "      <th>2</th>\n",
       "      <td>Abbotsford</td>\n",
       "      <td>5 Charles St</td>\n",
       "      <td>3</td>\n",
       "      <td>h</td>\n",
       "      <td>1465000.0</td>\n",
       "      <td>SP</td>\n",
       "      <td>Biggin</td>\n",
       "      <td>4/03/2017</td>\n",
       "      <td>2.5</td>\n",
       "      <td>3067.0</td>\n",
       "      <td>...</td>\n",
       "      <td>2.0</td>\n",
       "      <td>0.0</td>\n",
       "      <td>134.0</td>\n",
       "      <td>150.0</td>\n",
       "      <td>1900.0</td>\n",
       "      <td>Yarra</td>\n",
       "      <td>-37.8093</td>\n",
       "      <td>144.9944</td>\n",
       "      <td>Northern Metropolitan</td>\n",
       "      <td>4019.0</td>\n",
       "    </tr>\n",
       "    <tr>\n",
       "      <th>3</th>\n",
       "      <td>Abbotsford</td>\n",
       "      <td>40 Federation La</td>\n",
       "      <td>3</td>\n",
       "      <td>h</td>\n",
       "      <td>850000.0</td>\n",
       "      <td>PI</td>\n",
       "      <td>Biggin</td>\n",
       "      <td>4/03/2017</td>\n",
       "      <td>2.5</td>\n",
       "      <td>3067.0</td>\n",
       "      <td>...</td>\n",
       "      <td>2.0</td>\n",
       "      <td>1.0</td>\n",
       "      <td>94.0</td>\n",
       "      <td>NaN</td>\n",
       "      <td>NaN</td>\n",
       "      <td>Yarra</td>\n",
       "      <td>-37.7969</td>\n",
       "      <td>144.9969</td>\n",
       "      <td>Northern Metropolitan</td>\n",
       "      <td>4019.0</td>\n",
       "    </tr>\n",
       "    <tr>\n",
       "      <th>4</th>\n",
       "      <td>Abbotsford</td>\n",
       "      <td>55a Park St</td>\n",
       "      <td>4</td>\n",
       "      <td>h</td>\n",
       "      <td>1600000.0</td>\n",
       "      <td>VB</td>\n",
       "      <td>Nelson</td>\n",
       "      <td>4/06/2016</td>\n",
       "      <td>2.5</td>\n",
       "      <td>3067.0</td>\n",
       "      <td>...</td>\n",
       "      <td>1.0</td>\n",
       "      <td>2.0</td>\n",
       "      <td>120.0</td>\n",
       "      <td>142.0</td>\n",
       "      <td>2014.0</td>\n",
       "      <td>Yarra</td>\n",
       "      <td>-37.8072</td>\n",
       "      <td>144.9941</td>\n",
       "      <td>Northern Metropolitan</td>\n",
       "      <td>4019.0</td>\n",
       "    </tr>\n",
       "  </tbody>\n",
       "</table>\n",
       "<p>5 rows × 21 columns</p>\n",
       "</div>"
      ],
      "text/plain": [
       "       Suburb           Address  Rooms Type      Price Method SellerG  \\\n",
       "0  Abbotsford      85 Turner St      2    h  1480000.0      S  Biggin   \n",
       "1  Abbotsford   25 Bloomburg St      2    h  1035000.0      S  Biggin   \n",
       "2  Abbotsford      5 Charles St      3    h  1465000.0     SP  Biggin   \n",
       "3  Abbotsford  40 Federation La      3    h   850000.0     PI  Biggin   \n",
       "4  Abbotsford       55a Park St      4    h  1600000.0     VB  Nelson   \n",
       "\n",
       "        Date  Distance  Postcode  ...  Bathroom  Car  Landsize  BuildingArea  \\\n",
       "0  3/12/2016       2.5    3067.0  ...       1.0  1.0     202.0           NaN   \n",
       "1  4/02/2016       2.5    3067.0  ...       1.0  0.0     156.0          79.0   \n",
       "2  4/03/2017       2.5    3067.0  ...       2.0  0.0     134.0         150.0   \n",
       "3  4/03/2017       2.5    3067.0  ...       2.0  1.0      94.0           NaN   \n",
       "4  4/06/2016       2.5    3067.0  ...       1.0  2.0     120.0         142.0   \n",
       "\n",
       "   YearBuilt  CouncilArea Lattitude  Longtitude             Regionname  \\\n",
       "0        NaN        Yarra  -37.7996    144.9984  Northern Metropolitan   \n",
       "1     1900.0        Yarra  -37.8079    144.9934  Northern Metropolitan   \n",
       "2     1900.0        Yarra  -37.8093    144.9944  Northern Metropolitan   \n",
       "3        NaN        Yarra  -37.7969    144.9969  Northern Metropolitan   \n",
       "4     2014.0        Yarra  -37.8072    144.9941  Northern Metropolitan   \n",
       "\n",
       "  Propertycount  \n",
       "0        4019.0  \n",
       "1        4019.0  \n",
       "2        4019.0  \n",
       "3        4019.0  \n",
       "4        4019.0  \n",
       "\n",
       "[5 rows x 21 columns]"
      ]
     },
     "execution_count": 4,
     "metadata": {},
     "output_type": "execute_result"
    }
   ],
   "source": [
    "df.head()"
   ]
  },
  {
   "cell_type": "markdown",
   "id": "radio-ranch",
   "metadata": {
    "papermill": {
     "duration": 0.036413,
     "end_time": "2021-04-29T08:09:50.414150",
     "exception": false,
     "start_time": "2021-04-29T08:09:50.377737",
     "status": "completed"
    },
    "tags": []
   },
   "source": [
    "**To see data types of features :**"
   ]
  },
  {
   "cell_type": "code",
   "execution_count": 5,
   "id": "diverse-lighting",
   "metadata": {
    "execution": {
     "iopub.execute_input": "2021-04-29T08:09:50.497033Z",
     "iopub.status.busy": "2021-04-29T08:09:50.496115Z",
     "iopub.status.idle": "2021-04-29T08:09:50.500393Z",
     "shell.execute_reply": "2021-04-29T08:09:50.499865Z"
    },
    "papermill": {
     "duration": 0.048461,
     "end_time": "2021-04-29T08:09:50.500528",
     "exception": false,
     "start_time": "2021-04-29T08:09:50.452067",
     "status": "completed"
    },
    "tags": []
   },
   "outputs": [
    {
     "data": {
      "text/plain": [
       "Suburb            object\n",
       "Address           object\n",
       "Rooms              int64\n",
       "Type              object\n",
       "Price            float64\n",
       "Method            object\n",
       "SellerG           object\n",
       "Date              object\n",
       "Distance         float64\n",
       "Postcode         float64\n",
       "Bedroom2         float64\n",
       "Bathroom         float64\n",
       "Car              float64\n",
       "Landsize         float64\n",
       "BuildingArea     float64\n",
       "YearBuilt        float64\n",
       "CouncilArea       object\n",
       "Lattitude        float64\n",
       "Longtitude       float64\n",
       "Regionname        object\n",
       "Propertycount    float64\n",
       "dtype: object"
      ]
     },
     "execution_count": 5,
     "metadata": {},
     "output_type": "execute_result"
    }
   ],
   "source": [
    "df.dtypes"
   ]
  },
  {
   "cell_type": "markdown",
   "id": "painted-packing",
   "metadata": {
    "papermill": {
     "duration": 0.037272,
     "end_time": "2021-04-29T08:09:50.575752",
     "exception": false,
     "start_time": "2021-04-29T08:09:50.538480",
     "status": "completed"
    },
    "tags": []
   },
   "source": [
    "**To see statistical details of the dataset, we can use df.describe() :**"
   ]
  },
  {
   "cell_type": "code",
   "execution_count": 6,
   "id": "medical-surprise",
   "metadata": {
    "execution": {
     "iopub.execute_input": "2021-04-29T08:09:50.663300Z",
     "iopub.status.busy": "2021-04-29T08:09:50.662550Z",
     "iopub.status.idle": "2021-04-29T08:09:50.728446Z",
     "shell.execute_reply": "2021-04-29T08:09:50.727868Z"
    },
    "papermill": {
     "duration": 0.115415,
     "end_time": "2021-04-29T08:09:50.728597",
     "exception": false,
     "start_time": "2021-04-29T08:09:50.613182",
     "status": "completed"
    },
    "tags": []
   },
   "outputs": [
    {
     "data": {
      "text/html": [
       "<div>\n",
       "<style scoped>\n",
       "    .dataframe tbody tr th:only-of-type {\n",
       "        vertical-align: middle;\n",
       "    }\n",
       "\n",
       "    .dataframe tbody tr th {\n",
       "        vertical-align: top;\n",
       "    }\n",
       "\n",
       "    .dataframe thead th {\n",
       "        text-align: right;\n",
       "    }\n",
       "</style>\n",
       "<table border=\"1\" class=\"dataframe\">\n",
       "  <thead>\n",
       "    <tr style=\"text-align: right;\">\n",
       "      <th></th>\n",
       "      <th>Rooms</th>\n",
       "      <th>Price</th>\n",
       "      <th>Distance</th>\n",
       "      <th>Postcode</th>\n",
       "      <th>Bedroom2</th>\n",
       "      <th>Bathroom</th>\n",
       "      <th>Car</th>\n",
       "      <th>Landsize</th>\n",
       "      <th>BuildingArea</th>\n",
       "      <th>YearBuilt</th>\n",
       "      <th>Lattitude</th>\n",
       "      <th>Longtitude</th>\n",
       "      <th>Propertycount</th>\n",
       "    </tr>\n",
       "  </thead>\n",
       "  <tbody>\n",
       "    <tr>\n",
       "      <th>count</th>\n",
       "      <td>13580.000000</td>\n",
       "      <td>1.358000e+04</td>\n",
       "      <td>13580.000000</td>\n",
       "      <td>13580.000000</td>\n",
       "      <td>13580.000000</td>\n",
       "      <td>13580.000000</td>\n",
       "      <td>13518.000000</td>\n",
       "      <td>13580.000000</td>\n",
       "      <td>7130.000000</td>\n",
       "      <td>8205.000000</td>\n",
       "      <td>13580.000000</td>\n",
       "      <td>13580.000000</td>\n",
       "      <td>13580.000000</td>\n",
       "    </tr>\n",
       "    <tr>\n",
       "      <th>mean</th>\n",
       "      <td>2.937997</td>\n",
       "      <td>1.075684e+06</td>\n",
       "      <td>10.137776</td>\n",
       "      <td>3105.301915</td>\n",
       "      <td>2.914728</td>\n",
       "      <td>1.534242</td>\n",
       "      <td>1.610075</td>\n",
       "      <td>558.416127</td>\n",
       "      <td>151.967650</td>\n",
       "      <td>1964.684217</td>\n",
       "      <td>-37.809203</td>\n",
       "      <td>144.995216</td>\n",
       "      <td>7454.417378</td>\n",
       "    </tr>\n",
       "    <tr>\n",
       "      <th>std</th>\n",
       "      <td>0.955748</td>\n",
       "      <td>6.393107e+05</td>\n",
       "      <td>5.868725</td>\n",
       "      <td>90.676964</td>\n",
       "      <td>0.965921</td>\n",
       "      <td>0.691712</td>\n",
       "      <td>0.962634</td>\n",
       "      <td>3990.669241</td>\n",
       "      <td>541.014538</td>\n",
       "      <td>37.273762</td>\n",
       "      <td>0.079260</td>\n",
       "      <td>0.103916</td>\n",
       "      <td>4378.581772</td>\n",
       "    </tr>\n",
       "    <tr>\n",
       "      <th>min</th>\n",
       "      <td>1.000000</td>\n",
       "      <td>8.500000e+04</td>\n",
       "      <td>0.000000</td>\n",
       "      <td>3000.000000</td>\n",
       "      <td>0.000000</td>\n",
       "      <td>0.000000</td>\n",
       "      <td>0.000000</td>\n",
       "      <td>0.000000</td>\n",
       "      <td>0.000000</td>\n",
       "      <td>1196.000000</td>\n",
       "      <td>-38.182550</td>\n",
       "      <td>144.431810</td>\n",
       "      <td>249.000000</td>\n",
       "    </tr>\n",
       "    <tr>\n",
       "      <th>25%</th>\n",
       "      <td>2.000000</td>\n",
       "      <td>6.500000e+05</td>\n",
       "      <td>6.100000</td>\n",
       "      <td>3044.000000</td>\n",
       "      <td>2.000000</td>\n",
       "      <td>1.000000</td>\n",
       "      <td>1.000000</td>\n",
       "      <td>177.000000</td>\n",
       "      <td>93.000000</td>\n",
       "      <td>1940.000000</td>\n",
       "      <td>-37.856822</td>\n",
       "      <td>144.929600</td>\n",
       "      <td>4380.000000</td>\n",
       "    </tr>\n",
       "    <tr>\n",
       "      <th>50%</th>\n",
       "      <td>3.000000</td>\n",
       "      <td>9.030000e+05</td>\n",
       "      <td>9.200000</td>\n",
       "      <td>3084.000000</td>\n",
       "      <td>3.000000</td>\n",
       "      <td>1.000000</td>\n",
       "      <td>2.000000</td>\n",
       "      <td>440.000000</td>\n",
       "      <td>126.000000</td>\n",
       "      <td>1970.000000</td>\n",
       "      <td>-37.802355</td>\n",
       "      <td>145.000100</td>\n",
       "      <td>6555.000000</td>\n",
       "    </tr>\n",
       "    <tr>\n",
       "      <th>75%</th>\n",
       "      <td>3.000000</td>\n",
       "      <td>1.330000e+06</td>\n",
       "      <td>13.000000</td>\n",
       "      <td>3148.000000</td>\n",
       "      <td>3.000000</td>\n",
       "      <td>2.000000</td>\n",
       "      <td>2.000000</td>\n",
       "      <td>651.000000</td>\n",
       "      <td>174.000000</td>\n",
       "      <td>1999.000000</td>\n",
       "      <td>-37.756400</td>\n",
       "      <td>145.058305</td>\n",
       "      <td>10331.000000</td>\n",
       "    </tr>\n",
       "    <tr>\n",
       "      <th>max</th>\n",
       "      <td>10.000000</td>\n",
       "      <td>9.000000e+06</td>\n",
       "      <td>48.100000</td>\n",
       "      <td>3977.000000</td>\n",
       "      <td>20.000000</td>\n",
       "      <td>8.000000</td>\n",
       "      <td>10.000000</td>\n",
       "      <td>433014.000000</td>\n",
       "      <td>44515.000000</td>\n",
       "      <td>2018.000000</td>\n",
       "      <td>-37.408530</td>\n",
       "      <td>145.526350</td>\n",
       "      <td>21650.000000</td>\n",
       "    </tr>\n",
       "  </tbody>\n",
       "</table>\n",
       "</div>"
      ],
      "text/plain": [
       "              Rooms         Price      Distance      Postcode      Bedroom2  \\\n",
       "count  13580.000000  1.358000e+04  13580.000000  13580.000000  13580.000000   \n",
       "mean       2.937997  1.075684e+06     10.137776   3105.301915      2.914728   \n",
       "std        0.955748  6.393107e+05      5.868725     90.676964      0.965921   \n",
       "min        1.000000  8.500000e+04      0.000000   3000.000000      0.000000   \n",
       "25%        2.000000  6.500000e+05      6.100000   3044.000000      2.000000   \n",
       "50%        3.000000  9.030000e+05      9.200000   3084.000000      3.000000   \n",
       "75%        3.000000  1.330000e+06     13.000000   3148.000000      3.000000   \n",
       "max       10.000000  9.000000e+06     48.100000   3977.000000     20.000000   \n",
       "\n",
       "           Bathroom           Car       Landsize  BuildingArea    YearBuilt  \\\n",
       "count  13580.000000  13518.000000   13580.000000   7130.000000  8205.000000   \n",
       "mean       1.534242      1.610075     558.416127    151.967650  1964.684217   \n",
       "std        0.691712      0.962634    3990.669241    541.014538    37.273762   \n",
       "min        0.000000      0.000000       0.000000      0.000000  1196.000000   \n",
       "25%        1.000000      1.000000     177.000000     93.000000  1940.000000   \n",
       "50%        1.000000      2.000000     440.000000    126.000000  1970.000000   \n",
       "75%        2.000000      2.000000     651.000000    174.000000  1999.000000   \n",
       "max        8.000000     10.000000  433014.000000  44515.000000  2018.000000   \n",
       "\n",
       "          Lattitude    Longtitude  Propertycount  \n",
       "count  13580.000000  13580.000000   13580.000000  \n",
       "mean     -37.809203    144.995216    7454.417378  \n",
       "std        0.079260      0.103916    4378.581772  \n",
       "min      -38.182550    144.431810     249.000000  \n",
       "25%      -37.856822    144.929600    4380.000000  \n",
       "50%      -37.802355    145.000100    6555.000000  \n",
       "75%      -37.756400    145.058305   10331.000000  \n",
       "max      -37.408530    145.526350   21650.000000  "
      ]
     },
     "execution_count": 6,
     "metadata": {},
     "output_type": "execute_result"
    }
   ],
   "source": [
    "df.describe()"
   ]
  },
  {
   "cell_type": "markdown",
   "id": "impressive-administration",
   "metadata": {
    "papermill": {
     "duration": 0.037933,
     "end_time": "2021-04-29T08:09:50.805534",
     "exception": false,
     "start_time": "2021-04-29T08:09:50.767601",
     "status": "completed"
    },
    "tags": []
   },
   "source": [
    "**Data cleaning**"
   ]
  },
  {
   "cell_type": "code",
   "execution_count": 7,
   "id": "neither-coordinate",
   "metadata": {
    "execution": {
     "iopub.execute_input": "2021-04-29T08:09:50.899248Z",
     "iopub.status.busy": "2021-04-29T08:09:50.898195Z",
     "iopub.status.idle": "2021-04-29T08:09:50.907548Z",
     "shell.execute_reply": "2021-04-29T08:09:50.908076Z"
    },
    "papermill": {
     "duration": 0.063873,
     "end_time": "2021-04-29T08:09:50.908245",
     "exception": false,
     "start_time": "2021-04-29T08:09:50.844372",
     "status": "completed"
    },
    "tags": []
   },
   "outputs": [
    {
     "data": {
      "text/plain": [
       "Suburb              0\n",
       "Address             0\n",
       "Rooms               0\n",
       "Type                0\n",
       "Price               0\n",
       "Method              0\n",
       "SellerG             0\n",
       "Date                0\n",
       "Distance            0\n",
       "Postcode            0\n",
       "Bedroom2            0\n",
       "Bathroom            0\n",
       "Car                62\n",
       "Landsize            0\n",
       "BuildingArea     6450\n",
       "YearBuilt        5375\n",
       "CouncilArea      1369\n",
       "Lattitude           0\n",
       "Longtitude          0\n",
       "Regionname          0\n",
       "Propertycount       0\n",
       "dtype: int64"
      ]
     },
     "execution_count": 7,
     "metadata": {},
     "output_type": "execute_result"
    }
   ],
   "source": [
    "df.isna().sum()"
   ]
  },
  {
   "cell_type": "markdown",
   "id": "framed-daniel",
   "metadata": {
    "papermill": {
     "duration": 0.03933,
     "end_time": "2021-04-29T08:09:50.986542",
     "exception": false,
     "start_time": "2021-04-29T08:09:50.947212",
     "status": "completed"
    },
    "tags": []
   },
   "source": [
    "**We can see there are missing values present in features like Car , BuildingArea , YearBuilt , CouncilArea**"
   ]
  },
  {
   "cell_type": "markdown",
   "id": "verbal-springfield",
   "metadata": {
    "papermill": {
     "duration": 0.040567,
     "end_time": "2021-04-29T08:09:51.066746",
     "exception": false,
     "start_time": "2021-04-29T08:09:51.026179",
     "status": "completed"
    },
    "tags": []
   },
   "source": [
    "**For Feature Car :**"
   ]
  },
  {
   "cell_type": "code",
   "execution_count": 8,
   "id": "modular-queens",
   "metadata": {
    "execution": {
     "iopub.execute_input": "2021-04-29T08:09:51.150856Z",
     "iopub.status.busy": "2021-04-29T08:09:51.149761Z",
     "iopub.status.idle": "2021-04-29T08:09:51.408062Z",
     "shell.execute_reply": "2021-04-29T08:09:51.408583Z"
    },
    "papermill": {
     "duration": 0.303268,
     "end_time": "2021-04-29T08:09:51.408765",
     "exception": false,
     "start_time": "2021-04-29T08:09:51.105497",
     "status": "completed"
    },
    "tags": []
   },
   "outputs": [
    {
     "data": {
      "text/plain": [
       "<AxesSubplot:xlabel='Car', ylabel='Price'>"
      ]
     },
     "execution_count": 8,
     "metadata": {},
     "output_type": "execute_result"
    },
    {
     "data": {
      "image/png": "[encoded data removed]",
      "text/plain": [
       "<Figure size 432x288 with 1 Axes>"
      ]
     },
     "metadata": {
      "needs_background": "light"
     },
     "output_type": "display_data"
    }
   ],
   "source": [
    "sns.scatterplot(x = df[\"Car\"],y = df[\"Price\"])\n",
    "# sns.boxplot(data=df[\"Car\"])"
   ]
  },
  {
   "cell_type": "code",
   "execution_count": 9,
   "id": "scientific-rolling",
   "metadata": {
    "execution": {
     "iopub.execute_input": "2021-04-29T08:09:51.500302Z",
     "iopub.status.busy": "2021-04-29T08:09:51.496377Z",
     "iopub.status.idle": "2021-04-29T08:09:51.505365Z",
     "shell.execute_reply": "2021-04-29T08:09:51.504834Z"
    },
    "papermill": {
     "duration": 0.056077,
     "end_time": "2021-04-29T08:09:51.505496",
     "exception": false,
     "start_time": "2021-04-29T08:09:51.449419",
     "status": "completed"
    },
    "tags": []
   },
   "outputs": [
    {
     "data": {
      "text/plain": [
       "2.0     5591\n",
       "1.0     5509\n",
       "0.0     1026\n",
       "3.0      748\n",
       "4.0      506\n",
       "5.0       63\n",
       "6.0       54\n",
       "8.0        9\n",
       "7.0        8\n",
       "10.0       3\n",
       "9.0        1\n",
       "Name: Car, dtype: int64"
      ]
     },
     "execution_count": 9,
     "metadata": {},
     "output_type": "execute_result"
    }
   ],
   "source": [
    "df[\"Car\"].value_counts()"
   ]
  },
  {
   "cell_type": "markdown",
   "id": "private-customer",
   "metadata": {
    "papermill": {
     "duration": 0.040464,
     "end_time": "2021-04-29T08:09:51.586637",
     "exception": false,
     "start_time": "2021-04-29T08:09:51.546173",
     "status": "completed"
    },
    "tags": []
   },
   "source": [
    "**For BuildingArea**"
   ]
  },
  {
   "cell_type": "code",
   "execution_count": 10,
   "id": "after-weapon",
   "metadata": {
    "execution": {
     "iopub.execute_input": "2021-04-29T08:09:51.676829Z",
     "iopub.status.busy": "2021-04-29T08:09:51.676081Z",
     "iopub.status.idle": "2021-04-29T08:09:51.851381Z",
     "shell.execute_reply": "2021-04-29T08:09:51.850741Z"
    },
    "papermill": {
     "duration": 0.22451,
     "end_time": "2021-04-29T08:09:51.851515",
     "exception": false,
     "start_time": "2021-04-29T08:09:51.627005",
     "status": "completed"
    },
    "tags": []
   },
   "outputs": [
    {
     "data": {
      "text/plain": [
       "<AxesSubplot:xlabel='BuildingArea', ylabel='Price'>"
      ]
     },
     "execution_count": 10,
     "metadata": {},
     "output_type": "execute_result"
    },
    {
     "data": {
      "image/png": "[encoded data removed]",
      "text/plain": [
       "<Figure size 432x288 with 1 Axes>"
      ]
     },
     "metadata": {
      "needs_background": "light"
     },
     "output_type": "display_data"
    }
   ],
   "source": [
    "# sns.boxplot(data = df[\"BuildingArea\"])\n",
    "sns.scatterplot(x = df[\"BuildingArea\"],y = df[\"Price\"])"
   ]
  },
  {
   "cell_type": "code",
   "execution_count": 11,
   "id": "identified-reward",
   "metadata": {
    "execution": {
     "iopub.execute_input": "2021-04-29T08:09:51.941252Z",
     "iopub.status.busy": "2021-04-29T08:09:51.940496Z",
     "iopub.status.idle": "2021-04-29T08:09:51.948907Z",
     "shell.execute_reply": "2021-04-29T08:09:51.948263Z"
    },
    "papermill": {
     "duration": 0.055254,
     "end_time": "2021-04-29T08:09:51.949055",
     "exception": false,
     "start_time": "2021-04-29T08:09:51.893801",
     "status": "completed"
    },
    "tags": []
   },
   "outputs": [
    {
     "data": {
      "text/plain": [
       "120.00    114\n",
       "110.00     89\n",
       "100.00     88\n",
       "130.00     84\n",
       "115.00     77\n",
       "         ... \n",
       "477.00      1\n",
       "426.00      1\n",
       "366.00      1\n",
       "446.00      1\n",
       "118.54      1\n",
       "Name: BuildingArea, Length: 602, dtype: int64"
      ]
     },
     "execution_count": 11,
     "metadata": {},
     "output_type": "execute_result"
    }
   ],
   "source": [
    "df[\"BuildingArea\"].value_counts()"
   ]
  },
  {
   "cell_type": "markdown",
   "id": "finished-above",
   "metadata": {
    "papermill": {
     "duration": 0.043176,
     "end_time": "2021-04-29T08:09:52.035081",
     "exception": false,
     "start_time": "2021-04-29T08:09:51.991905",
     "status": "completed"
    },
    "tags": []
   },
   "source": [
    "**For YearBuilt**"
   ]
  },
  {
   "cell_type": "code",
   "execution_count": 12,
   "id": "technological-chest",
   "metadata": {
    "execution": {
     "iopub.execute_input": "2021-04-29T08:09:52.150659Z",
     "iopub.status.busy": "2021-04-29T08:09:52.143317Z",
     "iopub.status.idle": "2021-04-29T08:09:52.246762Z",
     "shell.execute_reply": "2021-04-29T08:09:52.246126Z"
    },
    "papermill": {
     "duration": 0.168708,
     "end_time": "2021-04-29T08:09:52.246926",
     "exception": false,
     "start_time": "2021-04-29T08:09:52.078218",
     "status": "completed"
    },
    "tags": []
   },
   "outputs": [
    {
     "data": {
      "text/plain": [
       "<AxesSubplot:>"
      ]
     },
     "execution_count": 12,
     "metadata": {},
     "output_type": "execute_result"
    },
    {
     "data": {
      "image/png": "[encoded data removed]",
      "text/plain": [
       "<Figure size 432x288 with 1 Axes>"
      ]
     },
     "metadata": {
      "needs_background": "light"
     },
     "output_type": "display_data"
    }
   ],
   "source": [
    "sns.boxplot(data = df[\"YearBuilt\"])\n",
    "# sns.scatterplot(x = df[\"YearBuilt\"],y = df[\"Price\"])"
   ]
  },
  {
   "cell_type": "markdown",
   "id": "first-patent",
   "metadata": {
    "papermill": {
     "duration": 0.04297,
     "end_time": "2021-04-29T08:09:52.338299",
     "exception": false,
     "start_time": "2021-04-29T08:09:52.295329",
     "status": "completed"
    },
    "tags": []
   },
   "source": [
    "**For CouncilArea**"
   ]
  },
  {
   "cell_type": "code",
   "execution_count": 13,
   "id": "living-tobago",
   "metadata": {
    "execution": {
     "iopub.execute_input": "2021-04-29T08:09:52.437190Z",
     "iopub.status.busy": "2021-04-29T08:09:52.436311Z",
     "iopub.status.idle": "2021-04-29T08:09:52.440745Z",
     "shell.execute_reply": "2021-04-29T08:09:52.440232Z"
    },
    "papermill": {
     "duration": 0.058237,
     "end_time": "2021-04-29T08:09:52.440887",
     "exception": false,
     "start_time": "2021-04-29T08:09:52.382650",
     "status": "completed"
    },
    "tags": []
   },
   "outputs": [
    {
     "data": {
      "text/plain": [
       "Moreland             1163\n",
       "Boroondara           1160\n",
       "Moonee Valley         997\n",
       "Darebin               934\n",
       "Glen Eira             848\n",
       "Stonnington           719\n",
       "Maribyrnong           692\n",
       "Yarra                 647\n",
       "Port Phillip          628\n",
       "Banyule               594\n",
       "Bayside               489\n",
       "Melbourne             470\n",
       "Hobsons Bay           434\n",
       "Brimbank              424\n",
       "Monash                333\n",
       "Manningham            311\n",
       "Whitehorse            304\n",
       "Kingston              207\n",
       "Whittlesea            167\n",
       "Hume                  164\n",
       "Wyndham                86\n",
       "Maroondah              80\n",
       "Knox                   80\n",
       "Melton                 66\n",
       "Frankston              53\n",
       "Greater Dandenong      52\n",
       "Casey                  38\n",
       "Nillumbik              36\n",
       "Yarra Ranges           18\n",
       "Cardinia                8\n",
       "Macedon Ranges          7\n",
       "Moorabool               1\n",
       "Unavailable             1\n",
       "Name: CouncilArea, dtype: int64"
      ]
     },
     "execution_count": 13,
     "metadata": {},
     "output_type": "execute_result"
    }
   ],
   "source": [
    "df[\"CouncilArea\"].value_counts()"
   ]
  },
  {
   "cell_type": "markdown",
   "id": "iraqi-expression",
   "metadata": {
    "papermill": {
     "duration": 0.043629,
     "end_time": "2021-04-29T08:09:52.529190",
     "exception": false,
     "start_time": "2021-04-29T08:09:52.485561",
     "status": "completed"
    },
    "tags": []
   },
   "source": [
    "**By seeing the graphs we can fill the missing values with forward values or backward values as they are in either increasing order or decreasing order continuously**"
   ]
  },
  {
   "cell_type": "code",
   "execution_count": 14,
   "id": "local-ballet",
   "metadata": {
    "execution": {
     "iopub.execute_input": "2021-04-29T08:09:52.639929Z",
     "iopub.status.busy": "2021-04-29T08:09:52.626770Z",
     "iopub.status.idle": "2021-04-29T08:09:52.662294Z",
     "shell.execute_reply": "2021-04-29T08:09:52.662798Z"
    },
    "papermill": {
     "duration": 0.08982,
     "end_time": "2021-04-29T08:09:52.663009",
     "exception": false,
     "start_time": "2021-04-29T08:09:52.573189",
     "status": "completed"
    },
    "tags": []
   },
   "outputs": [],
   "source": [
    "df = df.fillna(method='ffill').fillna(method='bfill')"
   ]
  },
  {
   "cell_type": "markdown",
   "id": "limited-genesis",
   "metadata": {
    "papermill": {
     "duration": 0.043537,
     "end_time": "2021-04-29T08:09:52.750732",
     "exception": false,
     "start_time": "2021-04-29T08:09:52.707195",
     "status": "completed"
    },
    "tags": []
   },
   "source": [
    "**Feature Selection :**"
   ]
  },
  {
   "cell_type": "code",
   "execution_count": 15,
   "id": "floppy-dance",
   "metadata": {
    "execution": {
     "iopub.execute_input": "2021-04-29T08:09:52.843232Z",
     "iopub.status.busy": "2021-04-29T08:09:52.842549Z",
     "iopub.status.idle": "2021-04-29T08:09:53.990331Z",
     "shell.execute_reply": "2021-04-29T08:09:53.989691Z"
    },
    "papermill": {
     "duration": 1.195352,
     "end_time": "2021-04-29T08:09:53.990480",
     "exception": false,
     "start_time": "2021-04-29T08:09:52.795128",
     "status": "completed"
    },
    "tags": []
   },
   "outputs": [
    {
     "data": {
      "text/plain": [
       "<AxesSubplot:xlabel='Lattitude', ylabel='Price'>"
      ]
     },
     "execution_count": 15,
     "metadata": {},
     "output_type": "execute_result"
    },
    {
     "data": {
      "image/png": "[encoded data removed]",
      "text/plain": [
       "<Figure size 432x288 with 1 Axes>"
      ]
     },
     "metadata": {
      "needs_background": "light"
     },
     "output_type": "display_data"
    }
   ],
   "source": [
    "sns.regplot(x = df[\"Lattitude\"],y = df[\"Price\"])"
   ]
  },
  {
   "cell_type": "code",
   "execution_count": 16,
   "id": "nominated-workstation",
   "metadata": {
    "execution": {
     "iopub.execute_input": "2021-04-29T08:09:54.091147Z",
     "iopub.status.busy": "2021-04-29T08:09:54.090424Z",
     "iopub.status.idle": "2021-04-29T08:09:54.106095Z",
     "shell.execute_reply": "2021-04-29T08:09:54.106919Z"
    },
    "papermill": {
     "duration": 0.070596,
     "end_time": "2021-04-29T08:09:54.107146",
     "exception": false,
     "start_time": "2021-04-29T08:09:54.036550",
     "status": "completed"
    },
    "tags": []
   },
   "outputs": [
    {
     "name": "stdout",
     "output_type": "stream",
     "text": [
      "Spearmans correlation: -0.260\n"
     ]
    }
   ],
   "source": [
    "corr, _ = spearmanr(df[\"Lattitude\"], df[\"Price\"])\n",
    "print('Spearmans correlation: %.3f' % corr)"
   ]
  },
  {
   "cell_type": "markdown",
   "id": "documentary-drunk",
   "metadata": {
    "papermill": {
     "duration": 0.047551,
     "end_time": "2021-04-29T08:09:54.202056",
     "exception": false,
     "start_time": "2021-04-29T08:09:54.154505",
     "status": "completed"
    },
    "tags": []
   },
   "source": [
    "**As we see Latitude feature is negatively correlated to Target feature so we remove it.**"
   ]
  },
  {
   "cell_type": "code",
   "execution_count": 17,
   "id": "nearby-magic",
   "metadata": {
    "execution": {
     "iopub.execute_input": "2021-04-29T08:09:54.300833Z",
     "iopub.status.busy": "2021-04-29T08:09:54.300121Z",
     "iopub.status.idle": "2021-04-29T08:09:55.443882Z",
     "shell.execute_reply": "2021-04-29T08:09:55.442802Z"
    },
    "papermill": {
     "duration": 1.19577,
     "end_time": "2021-04-29T08:09:55.444030",
     "exception": false,
     "start_time": "2021-04-29T08:09:54.248260",
     "status": "completed"
    },
    "tags": []
   },
   "outputs": [
    {
     "data": {
      "text/plain": [
       "<AxesSubplot:xlabel='Longtitude', ylabel='Price'>"
      ]
     },
     "execution_count": 17,
     "metadata": {},
     "output_type": "execute_result"
    },
    {
     "data": {
      "image/png": "[encoded data removed]",
      "text/plain": [
       "<Figure size 432x288 with 1 Axes>"
      ]
     },
     "metadata": {
      "needs_background": "light"
     },
     "output_type": "display_data"
    }
   ],
   "source": [
    "sns.regplot(x = df[\"Longtitude\"],y = df[\"Price\"])"
   ]
  },
  {
   "cell_type": "code",
   "execution_count": 18,
   "id": "robust-diagram",
   "metadata": {
    "execution": {
     "iopub.execute_input": "2021-04-29T08:09:55.544583Z",
     "iopub.status.busy": "2021-04-29T08:09:55.543952Z",
     "iopub.status.idle": "2021-04-29T08:09:55.553288Z",
     "shell.execute_reply": "2021-04-29T08:09:55.554859Z"
    },
    "papermill": {
     "duration": 0.063491,
     "end_time": "2021-04-29T08:09:55.555087",
     "exception": false,
     "start_time": "2021-04-29T08:09:55.491596",
     "status": "completed"
    },
    "tags": []
   },
   "outputs": [
    {
     "name": "stdout",
     "output_type": "stream",
     "text": [
      "Spearmans correlation: 0.262\n"
     ]
    }
   ],
   "source": [
    "corr, _ = spearmanr(df[\"Longtitude\"], df[\"Price\"])\n",
    "print('Spearmans correlation: %.3f' % corr)"
   ]
  },
  {
   "cell_type": "markdown",
   "id": "typical-nature",
   "metadata": {
    "papermill": {
     "duration": 0.047851,
     "end_time": "2021-04-29T08:09:55.651862",
     "exception": false,
     "start_time": "2021-04-29T08:09:55.604011",
     "status": "completed"
    },
    "tags": []
   },
   "source": [
    "**As we can see Date is not related to house price so we can delete it.**"
   ]
  },
  {
   "cell_type": "code",
   "execution_count": 19,
   "id": "frequent-evans",
   "metadata": {
    "execution": {
     "iopub.execute_input": "2021-04-29T08:09:55.754216Z",
     "iopub.status.busy": "2021-04-29T08:09:55.753070Z",
     "iopub.status.idle": "2021-04-29T08:09:55.760036Z",
     "shell.execute_reply": "2021-04-29T08:09:55.759358Z"
    },
    "papermill": {
     "duration": 0.060318,
     "end_time": "2021-04-29T08:09:55.760290",
     "exception": false,
     "start_time": "2021-04-29T08:09:55.699972",
     "status": "completed"
    },
    "tags": []
   },
   "outputs": [],
   "source": [
    "del df[\"Lattitude\"]\n",
    "del df[\"Longtitude\"]\n",
    "del df[\"Date\"]"
   ]
  },
  {
   "cell_type": "code",
   "execution_count": 20,
   "id": "transsexual-calibration",
   "metadata": {
    "execution": {
     "iopub.execute_input": "2021-04-29T08:09:55.862341Z",
     "iopub.status.busy": "2021-04-29T08:09:55.861673Z",
     "iopub.status.idle": "2021-04-29T08:09:55.882860Z",
     "shell.execute_reply": "2021-04-29T08:09:55.882254Z"
    },
    "papermill": {
     "duration": 0.074219,
     "end_time": "2021-04-29T08:09:55.883052",
     "exception": false,
     "start_time": "2021-04-29T08:09:55.808833",
     "status": "completed"
    },
    "tags": []
   },
   "outputs": [
    {
     "data": {
      "text/plain": [
       "Rooms            0.496634\n",
       "Price            1.000000\n",
       "Distance        -0.162522\n",
       "Postcode         0.107867\n",
       "Bedroom2         0.475951\n",
       "Bathroom         0.467038\n",
       "Car              0.238302\n",
       "Landsize         0.037507\n",
       "BuildingArea     0.078818\n",
       "YearBuilt       -0.214390\n",
       "Propertycount   -0.042153\n",
       "Name: Price, dtype: float64"
      ]
     },
     "execution_count": 20,
     "metadata": {},
     "output_type": "execute_result"
    }
   ],
   "source": [
    "df[df.columns[:]].corr()['Price'][:]"
   ]
  },
  {
   "cell_type": "markdown",
   "id": "female-indiana",
   "metadata": {
    "papermill": {
     "duration": 0.048592,
     "end_time": "2021-04-29T08:09:55.984873",
     "exception": false,
     "start_time": "2021-04-29T08:09:55.936281",
     "status": "completed"
    },
    "tags": []
   },
   "source": [
    "**Applying machine learning algorithm**"
   ]
  },
  {
   "cell_type": "code",
   "execution_count": 21,
   "id": "alert-attribute",
   "metadata": {
    "execution": {
     "iopub.execute_input": "2021-04-29T08:09:56.088572Z",
     "iopub.status.busy": "2021-04-29T08:09:56.087713Z",
     "iopub.status.idle": "2021-04-29T08:09:56.683720Z",
     "shell.execute_reply": "2021-04-29T08:09:56.682308Z"
    },
    "papermill": {
     "duration": 0.650347,
     "end_time": "2021-04-29T08:09:56.683878",
     "exception": false,
     "start_time": "2021-04-29T08:09:56.033531",
     "status": "completed"
    },
    "tags": []
   },
   "outputs": [],
   "source": [
    "from sklearn.linear_model import LinearRegression\n",
    "from sklearn.model_selection import train_test_split\n",
    "from sklearn.tree import DecisionTreeRegressor\n",
    "from sklearn import metrics\n",
    "from sklearn.ensemble import RandomForestRegressor\n",
    "from sklearn.model_selection import cross_val_score"
   ]
  },
  {
   "cell_type": "markdown",
   "id": "exceptional-party",
   "metadata": {
    "papermill": {
     "duration": 0.048549,
     "end_time": "2021-04-29T08:09:56.781476",
     "exception": false,
     "start_time": "2021-04-29T08:09:56.732927",
     "status": "completed"
    },
    "tags": []
   },
   "source": [
    "**Choosing the target variable**"
   ]
  },
  {
   "cell_type": "code",
   "execution_count": 22,
   "id": "orange-occupation",
   "metadata": {
    "execution": {
     "iopub.execute_input": "2021-04-29T08:09:56.887520Z",
     "iopub.status.busy": "2021-04-29T08:09:56.886840Z",
     "iopub.status.idle": "2021-04-29T08:09:56.890792Z",
     "shell.execute_reply": "2021-04-29T08:09:56.890161Z"
    },
    "papermill": {
     "duration": 0.058262,
     "end_time": "2021-04-29T08:09:56.890929",
     "exception": false,
     "start_time": "2021-04-29T08:09:56.832667",
     "status": "completed"
    },
    "tags": []
   },
   "outputs": [],
   "source": [
    "y = df[\"Price\"]\n",
    "del df[\"Price\"]"
   ]
  },
  {
   "cell_type": "code",
   "execution_count": 23,
   "id": "polar-exposure",
   "metadata": {
    "execution": {
     "iopub.execute_input": "2021-04-29T08:09:56.996735Z",
     "iopub.status.busy": "2021-04-29T08:09:56.995913Z",
     "iopub.status.idle": "2021-04-29T08:09:56.998824Z",
     "shell.execute_reply": "2021-04-29T08:09:56.999331Z"
    },
    "papermill": {
     "duration": 0.05939,
     "end_time": "2021-04-29T08:09:56.999505",
     "exception": false,
     "start_time": "2021-04-29T08:09:56.940115",
     "status": "completed"
    },
    "tags": []
   },
   "outputs": [
    {
     "data": {
      "text/plain": [
       "Suburb            object\n",
       "Address           object\n",
       "Rooms              int64\n",
       "Type              object\n",
       "Method            object\n",
       "SellerG           object\n",
       "Distance         float64\n",
       "Postcode         float64\n",
       "Bedroom2         float64\n",
       "Bathroom         float64\n",
       "Car              float64\n",
       "Landsize         float64\n",
       "BuildingArea     float64\n",
       "YearBuilt        float64\n",
       "CouncilArea       object\n",
       "Regionname        object\n",
       "Propertycount    float64\n",
       "dtype: object"
      ]
     },
     "execution_count": 23,
     "metadata": {},
     "output_type": "execute_result"
    }
   ],
   "source": [
    "df.dtypes"
   ]
  },
  {
   "cell_type": "markdown",
   "id": "ahead-livestock",
   "metadata": {
    "papermill": {
     "duration": 0.049607,
     "end_time": "2021-04-29T08:09:57.099523",
     "exception": false,
     "start_time": "2021-04-29T08:09:57.049916",
     "status": "completed"
    },
    "tags": []
   },
   "source": [
    "**Performing one hot encoding for categorical features.**"
   ]
  },
  {
   "cell_type": "code",
   "execution_count": 24,
   "id": "compact-glucose",
   "metadata": {
    "execution": {
     "iopub.execute_input": "2021-04-29T08:09:57.207696Z",
     "iopub.status.busy": "2021-04-29T08:09:57.201250Z",
     "iopub.status.idle": "2021-04-29T08:09:57.492540Z",
     "shell.execute_reply": "2021-04-29T08:09:57.491927Z"
    },
    "papermill": {
     "duration": 0.343529,
     "end_time": "2021-04-29T08:09:57.492702",
     "exception": false,
     "start_time": "2021-04-29T08:09:57.149173",
     "status": "completed"
    },
    "tags": []
   },
   "outputs": [],
   "source": [
    "df[\"Suburb\"] = pd.get_dummies(df[\"Suburb\"])\n",
    "df[\"Address\"] = pd.get_dummies(df[\"Address\"])\n",
    "df[\"Method\"] = pd.get_dummies(df[\"Method\"])\n",
    "df[\"SellerG\"] = pd.get_dummies(df[\"SellerG\"])\n",
    "df[\"Regionname\"] = pd.get_dummies(df[\"Regionname\"])\n",
    "df[\"CouncilArea\"] = pd.get_dummies(df[\"CouncilArea\"])\n",
    "df[\"Type\"] = pd.get_dummies(df[\"Type\"])"
   ]
  },
  {
   "cell_type": "markdown",
   "id": "naughty-collar",
   "metadata": {
    "papermill": {
     "duration": 0.049413,
     "end_time": "2021-04-29T08:09:57.593224",
     "exception": false,
     "start_time": "2021-04-29T08:09:57.543811",
     "status": "completed"
    },
    "tags": []
   },
   "source": [
    "**Chossing features for predicting target variable**"
   ]
  },
  {
   "cell_type": "code",
   "execution_count": 25,
   "id": "about-enzyme",
   "metadata": {
    "execution": {
     "iopub.execute_input": "2021-04-29T08:09:57.697534Z",
     "iopub.status.busy": "2021-04-29T08:09:57.696909Z",
     "iopub.status.idle": "2021-04-29T08:09:57.699863Z",
     "shell.execute_reply": "2021-04-29T08:09:57.700320Z"
    },
    "papermill": {
     "duration": 0.057374,
     "end_time": "2021-04-29T08:09:57.700494",
     "exception": false,
     "start_time": "2021-04-29T08:09:57.643120",
     "status": "completed"
    },
    "tags": []
   },
   "outputs": [],
   "source": [
    "x = df"
   ]
  },
  {
   "cell_type": "markdown",
   "id": "tamil-cross",
   "metadata": {
    "papermill": {
     "duration": 0.049581,
     "end_time": "2021-04-29T08:09:57.801413",
     "exception": false,
     "start_time": "2021-04-29T08:09:57.751832",
     "status": "completed"
    },
    "tags": []
   },
   "source": [
    "**Dividing our data into train and test data so we can train our model with training data and test our model with testing data**"
   ]
  },
  {
   "cell_type": "code",
   "execution_count": 26,
   "id": "cordless-listing",
   "metadata": {
    "execution": {
     "iopub.execute_input": "2021-04-29T08:09:57.908169Z",
     "iopub.status.busy": "2021-04-29T08:09:57.907411Z",
     "iopub.status.idle": "2021-04-29T08:09:57.915870Z",
     "shell.execute_reply": "2021-04-29T08:09:57.916404Z"
    },
    "papermill": {
     "duration": 0.065179,
     "end_time": "2021-04-29T08:09:57.916636",
     "exception": false,
     "start_time": "2021-04-29T08:09:57.851457",
     "status": "completed"
    },
    "tags": []
   },
   "outputs": [],
   "source": [
    "x_train,x_test,y_train,y_test = train_test_split(x,y,test_size = 0.2)"
   ]
  },
  {
   "cell_type": "markdown",
   "id": "portable-range",
   "metadata": {
    "papermill": {
     "duration": 0.052422,
     "end_time": "2021-04-29T08:09:58.019947",
     "exception": false,
     "start_time": "2021-04-29T08:09:57.967525",
     "status": "completed"
    },
    "tags": []
   },
   "source": [
    "**Using RandomForestRegressor, we are using it because we are predicting a continuous value so we are applying it.**"
   ]
  },
  {
   "cell_type": "code",
   "execution_count": 27,
   "id": "novel-athens",
   "metadata": {
    "execution": {
     "iopub.execute_input": "2021-04-29T08:09:58.128893Z",
     "iopub.status.busy": "2021-04-29T08:09:58.128242Z",
     "iopub.status.idle": "2021-04-29T08:10:02.129691Z",
     "shell.execute_reply": "2021-04-29T08:10:02.128929Z"
    },
    "papermill": {
     "duration": 4.059891,
     "end_time": "2021-04-29T08:10:02.129841",
     "exception": false,
     "start_time": "2021-04-29T08:09:58.069950",
     "status": "completed"
    },
    "tags": []
   },
   "outputs": [
    {
     "data": {
      "text/plain": [
       "RandomForestRegressor(max_depth=13, random_state=0)"
      ]
     },
     "execution_count": 27,
     "metadata": {},
     "output_type": "execute_result"
    }
   ],
   "source": [
    "model = RandomForestRegressor(max_depth=13, random_state=0)\n",
    "model.fit(x_train,y_train)"
   ]
  },
  {
   "cell_type": "markdown",
   "id": "brave-upgrade",
   "metadata": {
    "papermill": {
     "duration": 0.051297,
     "end_time": "2021-04-29T08:10:02.231882",
     "exception": false,
     "start_time": "2021-04-29T08:10:02.180585",
     "status": "completed"
    },
    "tags": []
   },
   "source": [
    "**Predicting the data using the model**"
   ]
  },
  {
   "cell_type": "code",
   "execution_count": 28,
   "id": "expired-junction",
   "metadata": {
    "execution": {
     "iopub.execute_input": "2021-04-29T08:10:02.340651Z",
     "iopub.status.busy": "2021-04-29T08:10:02.339652Z",
     "iopub.status.idle": "2021-04-29T08:10:02.402784Z",
     "shell.execute_reply": "2021-04-29T08:10:02.402249Z"
    },
    "papermill": {
     "duration": 0.120592,
     "end_time": "2021-04-29T08:10:02.402953",
     "exception": false,
     "start_time": "2021-04-29T08:10:02.282361",
     "status": "completed"
    },
    "tags": []
   },
   "outputs": [],
   "source": [
    "y_pred = model.predict(x_test)"
   ]
  },
  {
   "cell_type": "markdown",
   "id": "aboriginal-check",
   "metadata": {
    "papermill": {
     "duration": 0.04991,
     "end_time": "2021-04-29T08:10:02.503048",
     "exception": false,
     "start_time": "2021-04-29T08:10:02.453138",
     "status": "completed"
    },
    "tags": []
   },
   "source": [
    "**Evaluating the model using performance measures.**"
   ]
  },
  {
   "cell_type": "code",
   "execution_count": 29,
   "id": "north-package",
   "metadata": {
    "execution": {
     "iopub.execute_input": "2021-04-29T08:10:02.609816Z",
     "iopub.status.busy": "2021-04-29T08:10:02.608699Z",
     "iopub.status.idle": "2021-04-29T08:10:02.614822Z",
     "shell.execute_reply": "2021-04-29T08:10:02.614170Z"
    },
    "papermill": {
     "duration": 0.061756,
     "end_time": "2021-04-29T08:10:02.614971",
     "exception": false,
     "start_time": "2021-04-29T08:10:02.553215",
     "status": "completed"
    },
    "tags": []
   },
   "outputs": [
    {
     "name": "stdout",
     "output_type": "stream",
     "text": [
      "0.7853700736976467\n"
     ]
    }
   ],
   "source": [
    "print(metrics.r2_score(y_test,y_pred))"
   ]
  },
  {
   "cell_type": "markdown",
   "id": "dirty-composer",
   "metadata": {
    "papermill": {
     "duration": 0.050288,
     "end_time": "2021-04-29T08:10:02.716287",
     "exception": false,
     "start_time": "2021-04-29T08:10:02.665999",
     "status": "completed"
    },
    "tags": []
   },
   "source": [
    "# Medium Blog Link\n",
    "https://abhishekgera2001.medium.com/predicting-house-price-with-random-forest-regressor-6e9a7c7f75dd"
   ]
  },
  {
   "cell_type": "markdown",
   "id": "internal-density",
   "metadata": {
    "papermill": {
     "duration": 0.050474,
     "end_time": "2021-04-29T08:10:02.817458",
     "exception": false,
     "start_time": "2021-04-29T08:10:02.766984",
     "status": "completed"
    },
    "tags": []
   },
   "source": []
  },
  {
   "cell_type": "code",
   "execution_count": null,
   "id": "muslim-subcommittee",
   "metadata": {
    "papermill": {
     "duration": 0.05027,
     "end_time": "2021-04-29T08:10:02.919593",
     "exception": false,
     "start_time": "2021-04-29T08:10:02.869323",
     "status": "completed"
    },
    "tags": []
   },
   "outputs": [],
   "source": []
  }
 ],
 "metadata": {
  "kernelspec": {
   "display_name": "Python 3",
   "language": "python",
   "name": "python3"
  },
  "language_info": {
   "codemirror_mode": {
    "name": "ipython",
    "version": 3
   },
   "file_extension": ".py",
   "mimetype": "text/x-python",
   "name": "python",
   "nbconvert_exporter": "python",
   "pygments_lexer": "ipython3",
   "version": "3.7.10"
  },
  "papermill": {
   "default_parameters": {},
   "duration": 24.904409,
   "end_time": "2021-04-29T08:10:04.380887",
   "environment_variables": {},
   "exception": null,
   "input_path": "__notebook__.ipynb",
   "output_path": "__notebook__.ipynb",
   "parameters": {},
   "start_time": "2021-04-29T08:09:39.476478",
   "version": "2.3.3"
  }
 },
 "nbformat": 4,
 "nbformat_minor": 5
}
